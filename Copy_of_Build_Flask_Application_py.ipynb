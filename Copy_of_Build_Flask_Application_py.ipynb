{
  "nbformat": 4,
  "nbformat_minor": 0,
  "metadata": {
    "colab": {
      "provenance": [],
      "authorship_tag": "ABX9TyNb+RPmuE69loMUMO1pgOux",
      "include_colab_link": true
    },
    "kernelspec": {
      "name": "python3",
      "display_name": "Python 3"
    },
    "language_info": {
      "name": "python"
    }
  },
  "cells": [
    {
      "cell_type": "markdown",
      "metadata": {
        "id": "view-in-github",
        "colab_type": "text"
      },
      "source": [
        "<a href=\"https://colab.research.google.com/github/IBM-EPBL/IBM-Project-40870-1660636876/blob/main/Copy_of_Build_Flask_Application_py.ipynb\" target=\"_parent\"><img src=\"https://colab.research.google.com/assets/colab-badge.svg\" alt=\"Open In Colab\"/></a>"
      ]
    },
    {
      "cell_type": "code",
      "execution_count": null,
      "metadata": {
        "colab": {
          "base_uri": "https://localhost:8080/",
          "height": 322
        },
        "id": "Ga27A-obRD9D",
        "outputId": "83c62385-bba3-4157-c091-9dfd5d0ef059"
      },
      "outputs": [
        {
          "output_type": "error",
          "ename": "ModuleNotFoundError",
          "evalue": "ignored",
          "traceback": [
            "\u001b[0;31m---------------------------------------------------------------------------\u001b[0m",
            "\u001b[0;31mModuleNotFoundError\u001b[0m                       Traceback (most recent call last)",
            "\u001b[0;32m<ipython-input-5-333af0a8f223>\u001b[0m in \u001b[0;36m<module>\u001b[0;34m\u001b[0m\n\u001b[1;32m      1\u001b[0m \u001b[0;32mfrom\u001b[0m \u001b[0mflask\u001b[0m \u001b[0;32mimport\u001b[0m \u001b[0mFlask\u001b[0m\u001b[0;34m,\u001b[0m \u001b[0mResponse\u001b[0m\u001b[0;34m,\u001b[0m \u001b[0mrender_template\u001b[0m\u001b[0;34m\u001b[0m\u001b[0;34m\u001b[0m\u001b[0m\n\u001b[0;32m----> 2\u001b[0;31m \u001b[0;32mfrom\u001b[0m \u001b[0mcamera\u001b[0m \u001b[0;32mimport\u001b[0m \u001b[0mVideo\u001b[0m\u001b[0;34m\u001b[0m\u001b[0;34m\u001b[0m\u001b[0m\n\u001b[0m",
            "\u001b[0;31mModuleNotFoundError\u001b[0m: No module named 'camera'",
            "",
            "\u001b[0;31m---------------------------------------------------------------------------\u001b[0;32m\nNOTE: If your import is failing due to a missing package, you can\nmanually install dependencies using either !pip or !apt.\n\nTo view examples of installing some common dependencies, click the\n\"Open Examples\" button below.\n\u001b[0;31m---------------------------------------------------------------------------\u001b[0m\n"
          ],
          "errorDetails": {
            "actions": [
              {
                "action": "open_url",
                "actionText": "Open Examples",
                "url": "/notebooks/snippets/importing_libraries.ipynb"
              }
            ]
          }
        }
      ],
      "source": [
        "from flask import Flask, Response, render_template\n",
        "from camera import Video"
      ]
    },
    {
      "cell_type": "markdown",
      "source": [],
      "metadata": {
        "id": "r38nrp37SX4S"
      }
    },
    {
      "cell_type": "markdown",
      "source": [
        "app = Flask(__name__)\n",
        "@app.route('/')\n",
        "def index():\n",
        "\treturn render_template('index.html')\n",
        "\n",
        "def gen(camera):\n",
        "\twhile True:\n",
        "\t\tframe = camera.get_frame()\n",
        "\t\tyield(b'--frame\\r\\n'\n",
        "\t\t\tb'Content-Type: image/jpeg\\r\\n\\r\\n' + frame +\n",
        "\t\t\tb'\\r\\n\\r\\n')\n",
        "\n",
        "@app.route('/video_feed')\n",
        "def video_feed():\n",
        "\tvideo = Video()\n",
        "\treturn Response(gen(video), mimetype='multipart/x-mixed-replace; boundary = frame')\n",
        "\n",
        "\n",
        "if __name__ == '__main__':\n",
        "\tapp.run()"
      ],
      "metadata": {
        "id": "m4USk3j2S9hW"
      }
    }
  ]
}